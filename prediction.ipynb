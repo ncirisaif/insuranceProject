{
 "cells": [
  {
   "cell_type": "markdown",
   "metadata": {},
   "source": []
  },
  {
   "cell_type": "markdown",
   "metadata": {},
   "source": [
    "### La prediction des réclamations ou des accidents est omnipresente chez les compagnies d'assurance, les banques, et presque part tout\n",
    "### Un bon exemple: l'Amérique, là où la prediction des futur accidents signifie le Bénéfice net pour des compagnie comme \"Allstate\" et \"Nationwide\""
   ]
  },
  {
   "cell_type": "markdown",
   "metadata": {},
   "source": [
    "### Dans ce context, le CGA affirme: \"le potentiel de développement des assurances en Tunisie reste faiblement exploité\" "
   ]
  },
  {
   "cell_type": "markdown",
   "metadata": {},
   "source": [
    "### Et l'un des recommandations : \"Le CGA doit revoir le système de tarification actuel et, rétablir des tarifs basés sur des données techniques et interdire la vente forcée des garanties annexes.\""
   ]
  },
  {
   "cell_type": "markdown",
   "metadata": {},
   "source": [
    "### L'objectif de cette étude est de prédire la probabilite de l'implication d'un futur accident\n",
    "### On a essayer de combiner 4 facteurs : \n",
    "#### * information de l'assureur\n",
    "#### * information de la vehicule\n",
    "#### * information de la police\n",
    "#### * la sinistralite du passé "
   ]
  },
  {
   "cell_type": "markdown",
   "metadata": {},
   "source": [
    "# Ces 4 facteurs révèlent le parttern des profile sinistré dans la vie reelle et l'assurance peut en tenir compte pour mieux personnaliser la cotisation, et sur tout ça peut reduire la frequence de sinistralite horrible en Tunisie"
   ]
  },
  {
   "cell_type": "code",
   "execution_count": null,
   "metadata": {},
   "outputs": [],
   "source": []
  },
  {
   "cell_type": "code",
   "execution_count": 1,
   "metadata": {},
   "outputs": [],
   "source": [
    "import numpy as np\n",
    "import pandas as pd\n",
    "import seaborn as sns\n",
    "import matplotlib.pyplot as plt\n",
    "\n",
    "from sklearn.linear_model import LogisticRegression\n",
    "from sklearn.tree import DecisionTreeClassifier\n",
    "from sklearn.ensemble import RandomForestClassifier\n",
    "from sklearn.model_selection import train_test_split\n",
    "from sklearn import preprocessing\n",
    "from sklearn.linear_model import LogisticRegression\n",
    "from sklearn.model_selection import cross_validate\n",
    "from sklearn.metrics import confusion_matrix\n",
    "from sklearn.metrics import classification_report\n",
    "from sklearn.neighbors import KNeighborsClassifier\n",
    "from sklearn import svm\n",
    "from sklearn.ensemble import GradientBoostingClassifier\n",
    "\n",
    "\n",
    "\n",
    "\n",
    "\n",
    "from sklearn.preprocessing import StandardScaler\n",
    "from sklearn.preprocessing import MinMaxScaler\n",
    "from sklearn.preprocessing import OneHotEncoder\n",
    "\n",
    "from sklearn.ensemble import RandomForestClassifier\n",
    "from sklearn.ensemble import AdaBoostClassifier"
   ]
  },
  {
   "cell_type": "code",
   "execution_count": 2,
   "metadata": {},
   "outputs": [
    {
     "name": "stderr",
     "output_type": "stream",
     "text": [
      "/Library/Frameworks/Python.framework/Versions/3.6/lib/python3.6/site-packages/IPython/core/interactiveshell.py:3063: DtypeWarning: Columns (16) have mixed types.Specify dtype option on import or set low_memory=False.\n",
      "  interactivity=interactivity, compiler=compiler, result=result)\n",
      "/Library/Frameworks/Python.framework/Versions/3.6/lib/python3.6/site-packages/IPython/core/interactiveshell.py:3063: DtypeWarning: Columns (13) have mixed types.Specify dtype option on import or set low_memory=False.\n",
      "  interactivity=interactivity, compiler=compiler, result=result)\n"
     ]
    }
   ],
   "source": [
    "police = pd.read_csv(\"data/Police.csv\",delimiter = \";\")\n",
    "sinistre = pd.read_csv(\"data/Sinistre.csv\",delimiter = \";\")\n",
    "classBonusMalus = pd.read_csv(\"data/classBonusMalus.csv\",delimiter = \";\")\n",
    "epave = pd.read_csv(\"data/epave.csv\",delimiter = \";\")\n",
    "marque = pd.read_excel(\"data/marque.xlsx\",delimiter = \";\")\n",
    "\n",
    "vehicule = pd.read_csv(\"data/nouveau/vehicule.csv\",delimiter = \";\")\n",
    "assure = pd.read_csv(\"data/nouveau/assure.csv\",delimiter = \";\")\n",
    "usageN = pd.read_csv(\"data/nouveau/uasgeCga.csv\",delimiter = \";\")\n"
   ]
  },
  {
   "cell_type": "code",
   "execution_count": 46,
   "metadata": {},
   "outputs": [
    {
     "data": {
      "text/plain": [
       "Index(['id', 'police_id', 'vehicule_id', 'assure_id', 'souscripteur_id',\n",
       "       'classeBonusMalus', 'classeBonusMalusCompagnie', 'classeBonusMalusCGA',\n",
       "       'coefBonusMalus', 'coefBonusMalusCompagnie', 'coefBonusMalusCGA',\n",
       "       'DATE_AFFECTATION', 'CONTRAT_EN_COURS', 'Etat_Donne', 'bonus',\n",
       "       'ETAT_VEHICULE', 'DATE_RETRAIT', 'date_Calcule', 'date_Occurence',\n",
       "       'date_changement_etat', 'dernierClassBonusMallus', 'consulter',\n",
       "       'codeUsage', 'codeGouvernorat', 'dateChangementVehicule', 'statut'],\n",
       "      dtype='object')"
      ]
     },
     "execution_count": 46,
     "metadata": {},
     "output_type": "execute_result"
    }
   ],
   "source": [
    "classBonusMalus.columns"
   ]
  },
  {
   "cell_type": "code",
   "execution_count": 3,
   "metadata": {},
   "outputs": [],
   "source": [
    "vehicule_marque=pd.merge(vehicule, marque, left_on='codeMarque', right_on='CD_MARQ')\n",
    "police_BM=pd.merge(police, classBonusMalus, left_on='id', right_on='police_id')\n",
    "BMfinal=pd.merge(vehicule_marque,police_BM, left_on='id', right_on='vehicule_id')\n",
    "BMfinali=pd.merge(usageN,BMfinal, left_on='code Usage', right_on='codeUsage')\n",
    "BMfinall=pd.merge(BMfinali,assure, left_on='assure_id', right_on='id')\n"
   ]
  },
  {
   "cell_type": "code",
   "execution_count": 4,
   "metadata": {},
   "outputs": [
    {
     "data": {
      "text/plain": [
       "(35462, 75)"
      ]
     },
     "execution_count": 4,
     "metadata": {},
     "output_type": "execute_result"
    }
   ],
   "source": [
    "data=BMfinall.copy()\n",
    "sinistreTest=sinistre.copy()\n",
    "data.shape"
   ]
  },
  {
   "cell_type": "markdown",
   "metadata": {},
   "source": [
    "# Column Target\n",
    "### 1 pour un profile sinistré et 0 pour un profile non sinistré "
   ]
  },
  {
   "cell_type": "code",
   "execution_count": 5,
   "metadata": {},
   "outputs": [],
   "source": [
    "data['target'] = 0"
   ]
  },
  {
   "cell_type": "code",
   "execution_count": 6,
   "metadata": {},
   "outputs": [],
   "source": [
    "data.drop_duplicates('police_id',inplace=True)\n",
    "sinistreTest.drop_duplicates('cga_police_id',inplace=True)\n",
    "data.set_index('police_id', inplace=True)\n",
    "sinistre.set_index('cga_police_id', inplace=True)"
   ]
  },
  {
   "cell_type": "code",
   "execution_count": 7,
   "metadata": {},
   "outputs": [],
   "source": [
    "#profiling.set_index('police_id', inplace=True)\n",
    "sinistreTest.set_index('cga_police_id', inplace=True)"
   ]
  },
  {
   "cell_type": "code",
   "execution_count": 8,
   "metadata": {},
   "outputs": [],
   "source": [
    "data.drop(columns=['id_x','id_y'],inplace=True) # ID Y ID BONUS MALUS "
   ]
  },
  {
   "cell_type": "code",
   "execution_count": 9,
   "metadata": {},
   "outputs": [],
   "source": [
    "#data = data[['vehicule_id','puissanceFiscal','energie','typePolice','naturePolice','classeBonusMalus','lib Usage','DESIGL','target']]"
   ]
  },
  {
   "cell_type": "code",
   "execution_count": 10,
   "metadata": {},
   "outputs": [],
   "source": [
    "for car in sinistreTest.iterrows():\n",
    "    idd = car[0]\n",
    "    data.at[idd,'target'] =  1\n"
   ]
  },
  {
   "cell_type": "code",
   "execution_count": 11,
   "metadata": {},
   "outputs": [],
   "source": [
    "#profiling.reset_index( inplace=True)\n",
    "sinistre.reset_index( inplace=True)"
   ]
  },
  {
   "cell_type": "code",
   "execution_count": 12,
   "metadata": {},
   "outputs": [],
   "source": [
    "data.drop_duplicates('vehicule_id',inplace=True)"
   ]
  },
  {
   "cell_type": "code",
   "execution_count": 13,
   "metadata": {},
   "outputs": [],
   "source": [
    "columns =  ['verouillageModifPolice','CD_MARQ_CH','Etat_Donne','code Usage','ENABLED','numChassis','dateDerniereVisite','DATE_RETRAIT_x','dateMiseEpave','dateAjout','CODE_STR','numImmatriculation','dateInsertion','consulter','codeGouvernorat','DDEB','DESIGA','date_Calcule','dateChangementVehicule','DATE_OBTENTION','codeTypePieceIdentite','id','statut','date_Occurence','consulter','date_changement_etat','DATE_RESILIATION','Date_Suspenssion','dateRemiseEnVigueure','DATE_AFFECTATION','DATE_RETRAIT_y','dateExpirationPolice','RESILIATION_ECHEANCE','dateEcheancePolice','dateEffetPolice','numPolice','code_Courtier_CGA','OBSERV','DFIN','dateChangementVehicule','dateMiseAjourVehicule','dateMiseCirculation','statut','codeTypePieceIdentite','DATE_OBTENTION']"
   ]
  },
  {
   "cell_type": "code",
   "execution_count": 14,
   "metadata": {},
   "outputs": [],
   "source": [
    "data.drop(columns=columns, axis=1, inplace = True)"
   ]
  },
  {
   "cell_type": "code",
   "execution_count": 15,
   "metadata": {},
   "outputs": [],
   "source": [
    "data.isna().sum();"
   ]
  },
  {
   "cell_type": "code",
   "execution_count": 16,
   "metadata": {},
   "outputs": [],
   "source": [
    "recap = data.copy()"
   ]
  },
  {
   "cell_type": "markdown",
   "metadata": {},
   "source": [
    "# COUNT sinistre\n",
    "### Calcule de nombre de sinistres par chaque profile"
   ]
  },
  {
   "cell_type": "code",
   "execution_count": 17,
   "metadata": {},
   "outputs": [
    {
     "data": {
      "text/plain": [
       "558074     12\n",
       "574584      7\n",
       "12225       6\n",
       "247658      6\n",
       "998101      5\n",
       "           ..\n",
       "92024       1\n",
       "608124      1\n",
       "1070974     1\n",
       "307073      1\n",
       "1181697     1\n",
       "Name: cga_vehicule_id, Length: 26844, dtype: int64"
      ]
     },
     "execution_count": 17,
     "metadata": {},
     "output_type": "execute_result"
    }
   ],
   "source": [
    "nb_sinistre =(sinistre['cga_vehicule_id'].value_counts()) \n",
    "nb_sinistre"
   ]
  },
  {
   "cell_type": "code",
   "execution_count": 18,
   "metadata": {},
   "outputs": [],
   "source": [
    "countSinistre = nb_sinistre.to_frame()\n",
    "countSinistre=countSinistre.reset_index()\n",
    "countSinistre.columns=['id_vehicule','count']"
   ]
  },
  {
   "cell_type": "code",
   "execution_count": 19,
   "metadata": {},
   "outputs": [],
   "source": [
    "data['sinistreCount'] = 0"
   ]
  },
  {
   "cell_type": "code",
   "execution_count": 20,
   "metadata": {},
   "outputs": [],
   "source": [
    "countSinistre.set_index('id_vehicule', inplace = True)"
   ]
  },
  {
   "cell_type": "code",
   "execution_count": 21,
   "metadata": {},
   "outputs": [],
   "source": [
    "data.set_index('vehicule_id', inplace=True)"
   ]
  },
  {
   "cell_type": "code",
   "execution_count": 22,
   "metadata": {},
   "outputs": [],
   "source": [
    "for car in countSinistre.iterrows():\n",
    "    idd = int(car[0])\n",
    "    data.at[idd,'sinistreCount'] =  countSinistre.at[idd,'count']"
   ]
  },
  {
   "cell_type": "code",
   "execution_count": null,
   "metadata": {},
   "outputs": [],
   "source": []
  },
  {
   "cell_type": "markdown",
   "metadata": {},
   "source": [
    "# Column SumResponsabilite\n",
    "### Pour les profile sinistré, on calcule la somme de responsabilite de chaque sinistre"
   ]
  },
  {
   "cell_type": "code",
   "execution_count": 23,
   "metadata": {},
   "outputs": [],
   "source": [
    "data['SumResponsabilite'] = 0"
   ]
  },
  {
   "cell_type": "code",
   "execution_count": 24,
   "metadata": {},
   "outputs": [],
   "source": [
    "df = sinistre[['cga_vehicule_id','pourcentadeDeResponsabilite']]\n",
    "df = df.groupby('cga_vehicule_id').sum()"
   ]
  },
  {
   "cell_type": "code",
   "execution_count": 25,
   "metadata": {},
   "outputs": [],
   "source": [
    "for car in df.iterrows():\n",
    "    idd = int(car[0])\n",
    "    data.loc[idd,'SumResponsabilite'] =  df.at[idd,'pourcentadeDeResponsabilite']"
   ]
  },
  {
   "cell_type": "markdown",
   "metadata": {},
   "source": [
    "# Column NY_with_licence\n",
    "### le nombre des annees avec permis de conduite"
   ]
  },
  {
   "cell_type": "code",
   "execution_count": 26,
   "metadata": {},
   "outputs": [],
   "source": [
    "data.dropna(axis=0 , inplace=True)"
   ]
  },
  {
   "cell_type": "code",
   "execution_count": 27,
   "metadata": {},
   "outputs": [],
   "source": [
    "from datetime import datetime"
   ]
  },
  {
   "cell_type": "code",
   "execution_count": 28,
   "metadata": {},
   "outputs": [],
   "source": [
    "data['NY_with_licence'] = 0"
   ]
  },
  {
   "cell_type": "code",
   "execution_count": 29,
   "metadata": {},
   "outputs": [],
   "source": [
    "classBonusMalus_assure = pd.merge(classBonusMalus,assure,left_on='assure_id', right_on='id')"
   ]
  },
  {
   "cell_type": "code",
   "execution_count": 30,
   "metadata": {},
   "outputs": [],
   "source": [
    "classBonusMalus_assure.drop_duplicates('vehicule_id',inplace=True)\n",
    "classBonusMalus_assure.set_index('vehicule_id',inplace=True)"
   ]
  },
  {
   "cell_type": "code",
   "execution_count": 31,
   "metadata": {},
   "outputs": [],
   "source": [
    "for car in data.iterrows():\n",
    "    idd = int(car[0])\n",
    "    #print(((datetime.today() - pd.to_datetime(classBonusMalus_assure.DATE_OBTENTION[idd]))).days/364)\n",
    "    data.at[idd,'NY_with_licence'] =  ((datetime.today() - pd.to_datetime(classBonusMalus_assure.DATE_OBTENTION[idd]))).days/364"
   ]
  },
  {
   "cell_type": "code",
   "execution_count": 32,
   "metadata": {},
   "outputs": [],
   "source": [
    "data['NY_with_licence'] = data['NY_with_licence'].abs()"
   ]
  },
  {
   "cell_type": "code",
   "execution_count": 33,
   "metadata": {},
   "outputs": [],
   "source": [
    "data.drop(['assure_id','souscripteur_id'],axis=1,inplace=True)"
   ]
  },
  {
   "cell_type": "code",
   "execution_count": null,
   "metadata": {},
   "outputs": [],
   "source": []
  },
  {
   "cell_type": "markdown",
   "metadata": {},
   "source": [
    "# Features cleaning and reformating"
   ]
  },
  {
   "cell_type": "code",
   "execution_count": 34,
   "metadata": {},
   "outputs": [],
   "source": [
    "data = data[data['energie']!=0]\n",
    "data = data[data['puissanceFiscal']!=0]\n",
    "data = data[data['puissanceFiscal']!=1]\n",
    "data[\"energie\"] =  data[\"energie\"].str.lower()"
   ]
  },
  {
   "cell_type": "markdown",
   "metadata": {},
   "source": [
    "### Si on compte le nombre de vehicule par rapport le groupe de modele (128 model), on remarque que plus de 3 quart des marque ne comporte qu'une seule vehicule\n",
    "### On va les regrouper dans une seule categorie << OTHER >> \n",
    "### Le meme processus est applique sur la colone << lib Usage >>"
   ]
  },
  {
   "cell_type": "code",
   "execution_count": 35,
   "metadata": {
    "jupyter": {
     "source_hidden": true
    }
   },
   "outputs": [],
   "source": [
    "liste2 = [\n",
    "'Engin de Chantiers',                                                             \n",
    "'Agricole Tracteur et Moissonneuse Batteuse',                                      \n",
    "'Agricole 2 véhicule dont le PTC > 3500 kg',                                       \n",
    "'Transport public de voyageurs',                                                   \n",
    "'Transport privé de personnes (personnel / enfants /membre d’association)',         \n",
    "'autres usages (Ambulance / Corbillard / RC Garagiste / RC Trajet etc)',            \n",
    "'Agences de Voyage et Hôtels'                                                     \n",
    "]"
   ]
  },
  {
   "cell_type": "code",
   "execution_count": 36,
   "metadata": {
    "jupyter": {
     "source_hidden": true
    }
   },
   "outputs": [],
   "source": [
    "liste1 = ['O.M','SSANGYONG',            \n",
    "'SUZUKI',               \n",
    "'MAHINDRA',              \n",
    "'CHERY',                 \n",
    "'IVECO-FIAT ',           \n",
    "'SCANIA',                \n",
    "'TATA',                  \n",
    "'VOLVO',                 \n",
    "'DAIMLER-CHRYSLER',      \n",
    "'LAND ROVER',            \n",
    "'UNIC',                  \n",
    "'SKODA',                 \n",
    "'DAIMLER BENZ',          \n",
    "'BERLIET',               \n",
    "'MINI',                  \n",
    "'ALFA-ROMEO',            \n",
    "'BAIC YINXIANG',         \n",
    "'PORSCHE',               \n",
    "'GREATWALL',             \n",
    "'JEEP',                  \n",
    "'RENAULT TRUCKS',        \n",
    "'LANCIA',                \n",
    "'KING LONG',             \n",
    "'HONDA',                 \n",
    "'SICAME',                \n",
    "'TUNICOM',               \n",
    "'MASSEY-FERGUSSON',      \n",
    "'ROVER',\n",
    "'HELI'           ,  \n",
    "'DETANK'          ,   \n",
    "'EBRO', \n",
    "'DODGE',            \n",
    "'DAF',                \n",
    "'LEXUS',              \n",
    "'CHRYSLER',           \n",
    "'ASTRA',              \n",
    "'WALLYSCAR',          \n",
    "'SSANGYOUNG',         \n",
    "'SMART',              \n",
    "'ZHEJIANG',           \n",
    "'CASE',               \n",
    "'PIAGGIO',            \n",
    "'ESCORTS LIMITED',    \n",
    "'MERLO',              \n",
    "'MATRA',              \n",
    "'MATEUR DEUTZ',       \n",
    "'MAGIRUS-DEUTZ',      \n",
    "'FERMEC',             \n",
    "'BEIJING',            \n",
    "'AVIA',               \n",
    "'AUTOBIANCHI',        \n",
    "'ZORZI',              \n",
    "'GLOBAL POWER',       \n",
    "'GM',                 \n",
    "'YTO',                \n",
    "'TUMOSAN',            \n",
    "'TRAILOR',            \n",
    "'TEREX',              \n",
    "'SOVAB',              \n",
    "'SIMMA',              \n",
    "'SIMCA',              \n",
    "'SHANGLI',            \n",
    "'SCCM',               \n",
    "'SANG-YOUNG',         \n",
    "'SANE',               \n",
    "'SAMSUNG',            \n",
    "'SAME',               \n",
    "'SAAB',              \n",
    "'PROTON',             \n",
    "'NT',                 \n",
    "'MMC',                \n",
    "'KOMATSU',            \n",
    "'KIOTI',              \n",
    "'JAC',                \n",
    "'IVECO-MAGIRUS',      \n",
    "'I.M.T.',             \n",
    "'GMC',                \n",
    "'LIUGONG', \n",
    "'IVECO-FIAT',            \n",
    "'MORRIS',                \n",
    "'MAN',                   \n",
    "'MINIONE',               \n",
    "'HIDROMEK',              \n",
    "'SAVIEM',                 \n",
    "'HONDA MOTORS',           \n",
    "'JAGUAR',                 \n",
    "'NEW HOLLAND',            \n",
    "'JCB',                    \n",
    "'JEDAA',                  \n",
    "'LANDINI',                \n",
    "'I.M.M',                  \n",
    "'KUBOTA',                 \n",
    "'DAEWOO',                 \n",
    "'COMET',                  \n",
    "'DONGFENG',               \n",
    "'M.G.',                   \n",
    "'DAIHATSU',               \n",
    "'MMC-SITTIPOL',           \n",
    "'JAGUAR-LANDROVER',       \n",
    "'DIECI',                  \n",
    "'FOTON',                  \n",
    "'MMCSITTIPOL',            \n",
    "'STEYR',                  \n",
    "'TAFE',                   \n",
    "'JOHN DEERE'             \n",
    "]                 "
   ]
  },
  {
   "cell_type": "code",
   "execution_count": 37,
   "metadata": {},
   "outputs": [],
   "source": [
    "data.replace(liste2,'other',inplace=True)\n",
    "data.replace(liste1,'other',inplace=True)"
   ]
  },
  {
   "cell_type": "code",
   "execution_count": 38,
   "metadata": {},
   "outputs": [],
   "source": [
    "recap2 = data.copy()"
   ]
  },
  {
   "cell_type": "code",
   "execution_count": 40,
   "metadata": {},
   "outputs": [],
   "source": [
    "recap2.to_csv('recap.csv')"
   ]
  },
  {
   "cell_type": "code",
   "execution_count": 132,
   "metadata": {},
   "outputs": [],
   "source": [
    "pie = recap2['lib Usage'].value_counts().head(4)"
   ]
  },
  {
   "cell_type": "code",
   "execution_count": null,
   "metadata": {},
   "outputs": [],
   "source": []
  },
  {
   "cell_type": "code",
   "execution_count": 164,
   "metadata": {},
   "outputs": [
    {
     "name": "stderr",
     "output_type": "stream",
     "text": [
      "b'Skipping line 4788: expected 4 fields, saw 5\\n'\n"
     ]
    }
   ],
   "source": [
    "zipCodes = pd.read_csv(\"data/zipcodes.csv\", error_bad_lines=False,delimiter = \";\")\n",
    "zipCodes.columns = ['Gouvernorat','Delegation','Localite','codePostale']\n"
   ]
  },
  {
   "cell_type": "code",
   "execution_count": 165,
   "metadata": {},
   "outputs": [],
   "source": [
    "zipCodes.set_index('codePostale',inplace=True)\n",
    "postal_dict = zipCodes.to_dict()\n"
   ]
  },
  {
   "cell_type": "code",
   "execution_count": 198,
   "metadata": {},
   "outputs": [],
   "source": [
    "recap2['codePostal'] = recap2['codePostal'].astype(int)\n",
    "recap2['location'] = recap2['codePostal'].map(postal_dict['Delegation'])\n"
   ]
  },
  {
   "cell_type": "code",
   "execution_count": 199,
   "metadata": {},
   "outputs": [
    {
     "data": {
      "text/html": [
       "<div>\n",
       "<style scoped>\n",
       "    .dataframe tbody tr th:only-of-type {\n",
       "        vertical-align: middle;\n",
       "    }\n",
       "\n",
       "    .dataframe tbody tr th {\n",
       "        vertical-align: top;\n",
       "    }\n",
       "\n",
       "    .dataframe thead th {\n",
       "        text-align: right;\n",
       "    }\n",
       "</style>\n",
       "<table border=\"1\" class=\"dataframe\">\n",
       "  <thead>\n",
       "    <tr style=\"text-align: right;\">\n",
       "      <th></th>\n",
       "      <th>lib Usage</th>\n",
       "      <th>codeMarque</th>\n",
       "      <th>puissanceFiscal</th>\n",
       "      <th>typeImmatriculation</th>\n",
       "      <th>energie</th>\n",
       "      <th>etatVehicule</th>\n",
       "      <th>CD_MARQ</th>\n",
       "      <th>CD_CONST</th>\n",
       "      <th>DESIGL</th>\n",
       "      <th>codeCompagnie</th>\n",
       "      <th>...</th>\n",
       "      <th>bonus</th>\n",
       "      <th>ETAT_VEHICULE</th>\n",
       "      <th>dernierClassBonusMallus</th>\n",
       "      <th>codeUsage</th>\n",
       "      <th>codePostal</th>\n",
       "      <th>target</th>\n",
       "      <th>sinistreCount</th>\n",
       "      <th>SumResponsabilite</th>\n",
       "      <th>NY_with_licence</th>\n",
       "      <th>location</th>\n",
       "    </tr>\n",
       "    <tr>\n",
       "      <th>vehicule_id</th>\n",
       "      <th></th>\n",
       "      <th></th>\n",
       "      <th></th>\n",
       "      <th></th>\n",
       "      <th></th>\n",
       "      <th></th>\n",
       "      <th></th>\n",
       "      <th></th>\n",
       "      <th></th>\n",
       "      <th></th>\n",
       "      <th></th>\n",
       "      <th></th>\n",
       "      <th></th>\n",
       "      <th></th>\n",
       "      <th></th>\n",
       "      <th></th>\n",
       "      <th></th>\n",
       "      <th></th>\n",
       "      <th></th>\n",
       "      <th></th>\n",
       "      <th></th>\n",
       "    </tr>\n",
       "  </thead>\n",
       "  <tbody>\n",
       "    <tr>\n",
       "      <th>79650.0</th>\n",
       "      <td>Privé et professionnel</td>\n",
       "      <td>206.0</td>\n",
       "      <td>6.0</td>\n",
       "      <td>TU</td>\n",
       "      <td>essence</td>\n",
       "      <td>V</td>\n",
       "      <td>206.0</td>\n",
       "      <td>206.0</td>\n",
       "      <td>SEAT</td>\n",
       "      <td>8.0</td>\n",
       "      <td>...</td>\n",
       "      <td>0.0</td>\n",
       "      <td>V</td>\n",
       "      <td>1.0</td>\n",
       "      <td>1.0</td>\n",
       "      <td>2052</td>\n",
       "      <td>0.0</td>\n",
       "      <td>0.0</td>\n",
       "      <td>0</td>\n",
       "      <td>29</td>\n",
       "      <td>Ezzouhour  (Tunis)</td>\n",
       "    </tr>\n",
       "    <tr>\n",
       "      <th>92410.0</th>\n",
       "      <td>Privé et professionnel</td>\n",
       "      <td>206.0</td>\n",
       "      <td>6.0</td>\n",
       "      <td>TU</td>\n",
       "      <td>essence</td>\n",
       "      <td>V</td>\n",
       "      <td>206.0</td>\n",
       "      <td>206.0</td>\n",
       "      <td>SEAT</td>\n",
       "      <td>4.0</td>\n",
       "      <td>...</td>\n",
       "      <td>0.0</td>\n",
       "      <td>V</td>\n",
       "      <td>1.0</td>\n",
       "      <td>1.0</td>\n",
       "      <td>2045</td>\n",
       "      <td>1.0</td>\n",
       "      <td>2.0</td>\n",
       "      <td>0</td>\n",
       "      <td>6</td>\n",
       "      <td>La Marsa</td>\n",
       "    </tr>\n",
       "    <tr>\n",
       "      <th>93832.0</th>\n",
       "      <td>Privé et professionnel</td>\n",
       "      <td>206.0</td>\n",
       "      <td>5.0</td>\n",
       "      <td>TU</td>\n",
       "      <td>essence</td>\n",
       "      <td>V</td>\n",
       "      <td>206.0</td>\n",
       "      <td>206.0</td>\n",
       "      <td>SEAT</td>\n",
       "      <td>4.0</td>\n",
       "      <td>...</td>\n",
       "      <td>1.0</td>\n",
       "      <td>V</td>\n",
       "      <td>1.0</td>\n",
       "      <td>1.0</td>\n",
       "      <td>2092</td>\n",
       "      <td>1.0</td>\n",
       "      <td>1.0</td>\n",
       "      <td>0</td>\n",
       "      <td>18</td>\n",
       "      <td>El Menzah</td>\n",
       "    </tr>\n",
       "    <tr>\n",
       "      <th>6552.0</th>\n",
       "      <td>Privé et professionnel</td>\n",
       "      <td>206.0</td>\n",
       "      <td>6.0</td>\n",
       "      <td>TU</td>\n",
       "      <td>essence</td>\n",
       "      <td>V</td>\n",
       "      <td>206.0</td>\n",
       "      <td>206.0</td>\n",
       "      <td>SEAT</td>\n",
       "      <td>2.0</td>\n",
       "      <td>...</td>\n",
       "      <td>1.0</td>\n",
       "      <td>V</td>\n",
       "      <td>1.0</td>\n",
       "      <td>1.0</td>\n",
       "      <td>8050</td>\n",
       "      <td>1.0</td>\n",
       "      <td>1.0</td>\n",
       "      <td>0</td>\n",
       "      <td>40</td>\n",
       "      <td>Hammamet</td>\n",
       "    </tr>\n",
       "    <tr>\n",
       "      <th>8327.0</th>\n",
       "      <td>Privé et professionnel</td>\n",
       "      <td>206.0</td>\n",
       "      <td>6.0</td>\n",
       "      <td>TU</td>\n",
       "      <td>essence</td>\n",
       "      <td>V</td>\n",
       "      <td>206.0</td>\n",
       "      <td>206.0</td>\n",
       "      <td>SEAT</td>\n",
       "      <td>2.0</td>\n",
       "      <td>...</td>\n",
       "      <td>0.0</td>\n",
       "      <td>V</td>\n",
       "      <td>1.0</td>\n",
       "      <td>1.0</td>\n",
       "      <td>3011</td>\n",
       "      <td>1.0</td>\n",
       "      <td>1.0</td>\n",
       "      <td>0</td>\n",
       "      <td>19</td>\n",
       "      <td>Sakiet Eddaier</td>\n",
       "    </tr>\n",
       "    <tr>\n",
       "      <th>...</th>\n",
       "      <td>...</td>\n",
       "      <td>...</td>\n",
       "      <td>...</td>\n",
       "      <td>...</td>\n",
       "      <td>...</td>\n",
       "      <td>...</td>\n",
       "      <td>...</td>\n",
       "      <td>...</td>\n",
       "      <td>...</td>\n",
       "      <td>...</td>\n",
       "      <td>...</td>\n",
       "      <td>...</td>\n",
       "      <td>...</td>\n",
       "      <td>...</td>\n",
       "      <td>...</td>\n",
       "      <td>...</td>\n",
       "      <td>...</td>\n",
       "      <td>...</td>\n",
       "      <td>...</td>\n",
       "      <td>...</td>\n",
       "      <td>...</td>\n",
       "    </tr>\n",
       "    <tr>\n",
       "      <th>1019113.0</th>\n",
       "      <td>other</td>\n",
       "      <td>1011.0</td>\n",
       "      <td>10.0</td>\n",
       "      <td>ES</td>\n",
       "      <td>gasoil</td>\n",
       "      <td>V</td>\n",
       "      <td>1011.0</td>\n",
       "      <td>1011.0</td>\n",
       "      <td>other</td>\n",
       "      <td>6.0</td>\n",
       "      <td>...</td>\n",
       "      <td>1.0</td>\n",
       "      <td>V</td>\n",
       "      <td>1.0</td>\n",
       "      <td>16.0</td>\n",
       "      <td>1005</td>\n",
       "      <td>1.0</td>\n",
       "      <td>1.0</td>\n",
       "      <td>100</td>\n",
       "      <td>34</td>\n",
       "      <td>El Omrane</td>\n",
       "    </tr>\n",
       "    <tr>\n",
       "      <th>1064775.0</th>\n",
       "      <td>other</td>\n",
       "      <td>2845.0</td>\n",
       "      <td>10.0</td>\n",
       "      <td>ES</td>\n",
       "      <td>gasoil</td>\n",
       "      <td>V</td>\n",
       "      <td>2845.0</td>\n",
       "      <td>2845.0</td>\n",
       "      <td>other</td>\n",
       "      <td>7.0</td>\n",
       "      <td>...</td>\n",
       "      <td>0.0</td>\n",
       "      <td>V</td>\n",
       "      <td>1.0</td>\n",
       "      <td>16.0</td>\n",
       "      <td>2096</td>\n",
       "      <td>0.0</td>\n",
       "      <td>0.0</td>\n",
       "      <td>0</td>\n",
       "      <td>31</td>\n",
       "      <td>Nouvelle Medina</td>\n",
       "    </tr>\n",
       "    <tr>\n",
       "      <th>1063314.0</th>\n",
       "      <td>other</td>\n",
       "      <td>2845.0</td>\n",
       "      <td>10.0</td>\n",
       "      <td>ES</td>\n",
       "      <td>gasoil</td>\n",
       "      <td>V</td>\n",
       "      <td>2845.0</td>\n",
       "      <td>2845.0</td>\n",
       "      <td>other</td>\n",
       "      <td>6.0</td>\n",
       "      <td>...</td>\n",
       "      <td>0.0</td>\n",
       "      <td>V</td>\n",
       "      <td>1.0</td>\n",
       "      <td>16.0</td>\n",
       "      <td>2000</td>\n",
       "      <td>1.0</td>\n",
       "      <td>1.0</td>\n",
       "      <td>100</td>\n",
       "      <td>22</td>\n",
       "      <td>Le Bardo</td>\n",
       "    </tr>\n",
       "    <tr>\n",
       "      <th>939656.0</th>\n",
       "      <td>other</td>\n",
       "      <td>12.0</td>\n",
       "      <td>8.0</td>\n",
       "      <td>TU</td>\n",
       "      <td>gasoil</td>\n",
       "      <td>V</td>\n",
       "      <td>12.0</td>\n",
       "      <td>12.0</td>\n",
       "      <td>CITROEN</td>\n",
       "      <td>11.0</td>\n",
       "      <td>...</td>\n",
       "      <td>0.0</td>\n",
       "      <td>V</td>\n",
       "      <td>1.0</td>\n",
       "      <td>17.0</td>\n",
       "      <td>1074</td>\n",
       "      <td>0.0</td>\n",
       "      <td>0.0</td>\n",
       "      <td>0</td>\n",
       "      <td>23</td>\n",
       "      <td>El Kabbaria</td>\n",
       "    </tr>\n",
       "    <tr>\n",
       "      <th>17264.0</th>\n",
       "      <td>other</td>\n",
       "      <td>347.0</td>\n",
       "      <td>10.0</td>\n",
       "      <td>TU</td>\n",
       "      <td>gasoil</td>\n",
       "      <td>V</td>\n",
       "      <td>347.0</td>\n",
       "      <td>347.0</td>\n",
       "      <td>MITSUBISHI</td>\n",
       "      <td>2.0</td>\n",
       "      <td>...</td>\n",
       "      <td>0.0</td>\n",
       "      <td>V</td>\n",
       "      <td>1.0</td>\n",
       "      <td>17.0</td>\n",
       "      <td>3000</td>\n",
       "      <td>1.0</td>\n",
       "      <td>1.0</td>\n",
       "      <td>0</td>\n",
       "      <td>46</td>\n",
       "      <td>Sfax Ville</td>\n",
       "    </tr>\n",
       "  </tbody>\n",
       "</table>\n",
       "<p>34519 rows × 32 columns</p>\n",
       "</div>"
      ],
      "text/plain": [
       "                          lib Usage  codeMarque  puissanceFiscal  \\\n",
       "vehicule_id                                                        \n",
       "79650.0      Privé et professionnel       206.0              6.0   \n",
       "92410.0      Privé et professionnel       206.0              6.0   \n",
       "93832.0      Privé et professionnel       206.0              5.0   \n",
       "6552.0       Privé et professionnel       206.0              6.0   \n",
       "8327.0       Privé et professionnel       206.0              6.0   \n",
       "...                             ...         ...              ...   \n",
       "1019113.0                     other      1011.0             10.0   \n",
       "1064775.0                     other      2845.0             10.0   \n",
       "1063314.0                     other      2845.0             10.0   \n",
       "939656.0                      other        12.0              8.0   \n",
       "17264.0                       other       347.0             10.0   \n",
       "\n",
       "            typeImmatriculation  energie etatVehicule  CD_MARQ  CD_CONST  \\\n",
       "vehicule_id                                                                \n",
       "79650.0                      TU  essence            V    206.0     206.0   \n",
       "92410.0                      TU  essence            V    206.0     206.0   \n",
       "93832.0                      TU  essence            V    206.0     206.0   \n",
       "6552.0                       TU  essence            V    206.0     206.0   \n",
       "8327.0                       TU  essence            V    206.0     206.0   \n",
       "...                         ...      ...          ...      ...       ...   \n",
       "1019113.0                    ES   gasoil            V   1011.0    1011.0   \n",
       "1064775.0                    ES   gasoil            V   2845.0    2845.0   \n",
       "1063314.0                    ES   gasoil            V   2845.0    2845.0   \n",
       "939656.0                     TU   gasoil            V     12.0      12.0   \n",
       "17264.0                      TU   gasoil            V    347.0     347.0   \n",
       "\n",
       "                 DESIGL  codeCompagnie  ...  bonus  ETAT_VEHICULE  \\\n",
       "vehicule_id                             ...                         \n",
       "79650.0            SEAT            8.0  ...    0.0              V   \n",
       "92410.0            SEAT            4.0  ...    0.0              V   \n",
       "93832.0            SEAT            4.0  ...    1.0              V   \n",
       "6552.0             SEAT            2.0  ...    1.0              V   \n",
       "8327.0             SEAT            2.0  ...    0.0              V   \n",
       "...                 ...            ...  ...    ...            ...   \n",
       "1019113.0         other            6.0  ...    1.0              V   \n",
       "1064775.0         other            7.0  ...    0.0              V   \n",
       "1063314.0         other            6.0  ...    0.0              V   \n",
       "939656.0        CITROEN           11.0  ...    0.0              V   \n",
       "17264.0      MITSUBISHI            2.0  ...    0.0              V   \n",
       "\n",
       "            dernierClassBonusMallus codeUsage codePostal  target  \\\n",
       "vehicule_id                                                        \n",
       "79650.0                         1.0       1.0       2052     0.0   \n",
       "92410.0                         1.0       1.0       2045     1.0   \n",
       "93832.0                         1.0       1.0       2092     1.0   \n",
       "6552.0                          1.0       1.0       8050     1.0   \n",
       "8327.0                          1.0       1.0       3011     1.0   \n",
       "...                             ...       ...        ...     ...   \n",
       "1019113.0                       1.0      16.0       1005     1.0   \n",
       "1064775.0                       1.0      16.0       2096     0.0   \n",
       "1063314.0                       1.0      16.0       2000     1.0   \n",
       "939656.0                        1.0      17.0       1074     0.0   \n",
       "17264.0                         1.0      17.0       3000     1.0   \n",
       "\n",
       "             sinistreCount  SumResponsabilite  NY_with_licence  \\\n",
       "vehicule_id                                                      \n",
       "79650.0                0.0                  0               29   \n",
       "92410.0                2.0                  0                6   \n",
       "93832.0                1.0                  0               18   \n",
       "6552.0                 1.0                  0               40   \n",
       "8327.0                 1.0                  0               19   \n",
       "...                    ...                ...              ...   \n",
       "1019113.0              1.0                100               34   \n",
       "1064775.0              0.0                  0               31   \n",
       "1063314.0              1.0                100               22   \n",
       "939656.0               0.0                  0               23   \n",
       "17264.0                1.0                  0               46   \n",
       "\n",
       "                       location  \n",
       "vehicule_id                      \n",
       "79650.0      Ezzouhour  (Tunis)  \n",
       "92410.0                La Marsa  \n",
       "93832.0               El Menzah  \n",
       "6552.0                 Hammamet  \n",
       "8327.0           Sakiet Eddaier  \n",
       "...                         ...  \n",
       "1019113.0             El Omrane  \n",
       "1064775.0       Nouvelle Medina  \n",
       "1063314.0              Le Bardo  \n",
       "939656.0            El Kabbaria  \n",
       "17264.0              Sfax Ville  \n",
       "\n",
       "[34519 rows x 32 columns]"
      ]
     },
     "execution_count": 199,
     "metadata": {},
     "output_type": "execute_result"
    }
   ],
   "source": [
    "recap2"
   ]
  },
  {
   "cell_type": "markdown",
   "metadata": {},
   "source": [
    "# Feature selection"
   ]
  },
  {
   "cell_type": "markdown",
   "metadata": {},
   "source": [
    "### with SVR"
   ]
  },
  {
   "cell_type": "code",
   "execution_count": 119,
   "metadata": {},
   "outputs": [],
   "source": [
    "from sklearn.datasets import make_friedman1\n",
    "from sklearn.feature_selection import RFE\n",
    "from sklearn.svm import SVR\n"
   ]
  },
  {
   "cell_type": "code",
   "execution_count": 220,
   "metadata": {},
   "outputs": [],
   "source": [
    "le = preprocessing.LabelEncoder()\n",
    "\n",
    "X = data.drop(columns=['target'],axis = 1)\n",
    "y = data['target']\n",
    "\n",
    "\n",
    "\n",
    "# Categorical boolean mask\n",
    "categorical_feature_mask = X.dtypes==object\n",
    "# filter categorical columns using mask and turn it into a list\n",
    "categorical_cols = X.columns[categorical_feature_mask].tolist()\n",
    "#apply le on categorical feature columns\n",
    "#X[categorical_cols] = X[categorical_cols].apply(lambda col: le.fit_transform(col))"
   ]
  },
  {
   "cell_type": "code",
   "execution_count": 135,
   "metadata": {},
   "outputs": [],
   "source": [
    "estimator = SVR(kernel=\"linear\")\n",
    "selector = RFE(estimator, 5, step=1)\n",
    "selector = selector.fit(X, y)"
   ]
  },
  {
   "cell_type": "code",
   "execution_count": 248,
   "metadata": {},
   "outputs": [],
   "source": [
    "df = pd.DataFrame()\n",
    "df['rep'] = recap2['target']\n",
    "recap2.drop('target',axis=1,inplace=True)\n",
    "\n",
    "recap2['target'] = df['rep'] \n"
   ]
  },
  {
   "cell_type": "markdown",
   "metadata": {},
   "source": [
    "### with ExtraTreesClassifier"
   ]
  },
  {
   "cell_type": "code",
   "execution_count": 245,
   "metadata": {},
   "outputs": [
    {
     "name": "stdout",
     "output_type": "stream",
     "text": [
      "[0.03666538 0.04874244 0.03678858 0.03655392 0.31709896 0.13124143\n",
      " 0.06629156 0.01907484 0.02444471 0.01985429 0.01983433 0.02632492\n",
      " 0.02128828 0.01126319 0.01723409 0.00163233 0.02063685 0.07256488\n",
      " 0.07246501]\n"
     ]
    },
    {
     "data": {
      "image/png": "[encoded data removed]",
      "text/plain": [
       "<Figure size 792x576 with 1 Axes>"
      ]
     },
     "metadata": {},
     "output_type": "display_data"
    }
   ],
   "source": [
    "#X = data.iloc[:,0:20]  #independent columns\n",
    "#y = data.iloc[:,-1]    #target column i.e price range\n",
    "\n",
    "X = recap2.drop(columns=['target','sinistreCount','SumResponsabilite'],axis = 1)\n",
    "y = recap2['target']\n",
    "\n",
    "columns_to_scale  = list(X.select_dtypes(exclude=\"object\").columns) \n",
    "# filter categorical columns using mask and turn it into a list\n",
    "X = X[columns_to_scale]\n",
    "\n",
    "model = ExtraTreesClassifier()\n",
    "model.fit(X,y)\n",
    "print(model.feature_importances_) #use inbuilt class feature_importances of tree based classifiers\n",
    "#plot graph of feature importances for better visualization\n",
    "feat_importances = pd.Series(model.feature_importances_, index=X.columns)\n",
    "feat_importances.nlargest(20).plot(kind='barh')\n",
    "plt.show()\n"
   ]
  },
  {
   "cell_type": "markdown",
   "metadata": {},
   "source": [
    "# Chi2"
   ]
  },
  {
   "cell_type": "code",
   "execution_count": 276,
   "metadata": {},
   "outputs": [
    {
     "data": {
      "text/plain": [
       "(34519, 32)"
      ]
     },
     "execution_count": 276,
     "metadata": {},
     "output_type": "execute_result"
    }
   ],
   "source": [
    "from sklearn.preprocessing import OrdinalEncoder\n",
    "from sklearn.feature_selection import SelectKBest\n",
    "from sklearn.feature_selection import chi2\n",
    "from matplotlib import pyplot"
   ]
  },
  {
   "cell_type": "code",
   "execution_count": 277,
   "metadata": {},
   "outputs": [],
   "source": [
    "def load_dataset(data):\n",
    "    X = data.iloc[:,0:31]\n",
    "    y = data.iloc[:,-1] \n",
    "    categ = list(encode.select_dtypes(include = \"object\"))\n",
    "    X = X[categ]\n",
    "    X= X.values\n",
    "    y= y.values\n",
    "    X = X.astype(str)\n",
    "    return X, y\n",
    "\n",
    "def prepare_inputs(X_train, X_test):\n",
    "    oe = OrdinalEncoder()\n",
    "    oe.fit(X_train)\n",
    "    X_train_enc = oe.transform(X_train)\n",
    "    X_test_enc = oe.transform(X_test)\n",
    "    return X_train_enc, X_test_enc\n",
    "\n",
    "def prepare_targets(y_train, y_test):\n",
    "    le = LabelEncoder()\n",
    "    le.fit(y_train)\n",
    "    y_train_enc = le.transform(y_train)\n",
    "    y_test_enc = le.transform(y_test)\n",
    "    return y_train_enc, y_test_enc\n",
    "\n",
    "def select_features(X_train, y_train, X_test):\n",
    "    fs = SelectKBest(score_func=chi2, k='all')\n",
    "    fs.fit(X_train, y_train)\n",
    "    X_train_fs = fs.transform(X_train)\n",
    "    X_test_fs = fs.transform(X_test)\n",
    "    return X_train_fs, X_test_fs, fs\n",
    "\n"
   ]
  },
  {
   "cell_type": "code",
   "execution_count": null,
   "metadata": {},
   "outputs": [],
   "source": []
  },
  {
   "cell_type": "code",
   "execution_count": 279,
   "metadata": {},
   "outputs": [
    {
     "name": "stdout",
     "output_type": "stream",
     "text": [
      "Feature 0: 1.757216\n",
      "Feature 1: 0.006064\n",
      "Feature 2: 130.139579\n",
      "Feature 3: 39.625008\n",
      "Feature 4: 14.337841\n"
     ]
    },
    {
     "data": {
      "image/png": "[encoded data removed]",
      "text/plain": [
       "<Figure size 792x576 with 1 Axes>"
      ]
     },
     "metadata": {},
     "output_type": "display_data"
    }
   ],
   "source": [
    "X, y = load_dataset(recap2)\n",
    "X_train, X_test, y_train, y_test = train_test_split(X, y, test_size=0.33, random_state=1)\n",
    "X_train_enc, X_test_enc = prepare_inputs(X_train, X_test)\n",
    "y_train_enc, y_test_enc = prepare_targets(y_train, y_test)\n",
    "X_train_fs, X_test_fs, fs = select_features(X_train_enc, y_train_enc, X_test_enc)\n",
    "for i in range(len(fs.scores_)):\n",
    "    print('Feature %d: %f' % (i, fs.scores_[i]))\n",
    "pyplot.bar([i for i in range(len(fs.scores_))], fs.scores_)\n",
    "pyplot.show()"
   ]
  },
  {
   "cell_type": "markdown",
   "metadata": {},
   "source": [
    "# Get correlations of each features in dataset\n"
   ]
  },
  {
   "cell_type": "code",
   "execution_count": 42,
   "metadata": {},
   "outputs": [
    {
     "data": {
      "image/png": "[encoded data removed]",
      "text/plain": [
       "<Figure size 1440x1440 with 2 Axes>"
      ]
     },
     "metadata": {
      "needs_background": "light"
     },
     "output_type": "display_data"
    }
   ],
   "source": [
    "corrmat = data.corr()\n",
    "top_corr_features = corrmat.index\n",
    "plt.figure(figsize=(20,20))\n",
    "#plot heat map\n",
    "g=sns.heatmap(data[top_corr_features].corr(),annot=True,cmap=\"RdYlGn\")\n"
   ]
  },
  {
   "cell_type": "code",
   "execution_count": null,
   "metadata": {},
   "outputs": [],
   "source": []
  },
  {
   "cell_type": "markdown",
   "metadata": {},
   "source": [
    "## Apres les tests , on choisi les features "
   ]
  },
  {
   "cell_type": "code",
   "execution_count": 47,
   "metadata": {},
   "outputs": [],
   "source": [
    "forUser = data.copy()"
   ]
  },
  {
   "cell_type": "code",
   "execution_count": 77,
   "metadata": {},
   "outputs": [],
   "source": [
    "data = forUser[['puissanceFiscal','energie','typePolice','naturePolice','bonus','NY_with_licence','typeIntermediaire','classeBonusMalusCompagnie','coefBonusMalusCompagnie','SumResponsabilite','lib Usage','DESIGL','codePostal','target']]"
   ]
  },
  {
   "cell_type": "code",
   "execution_count": 49,
   "metadata": {},
   "outputs": [],
   "source": [
    "for_model = data.copy()"
   ]
  },
  {
   "cell_type": "code",
   "execution_count": 1,
   "metadata": {},
   "outputs": [],
   "source": [
    "hi = ['puissanceFiscal','energie','typePolice','naturePolice','bonus','NY_with_licence','typeIntermediaire','classeBonusMalusCompagnie','coefBonusMalusCompagnie','SumResponsabilite','lib Usage','DESIGL','codePostal','target']"
   ]
  },
  {
   "cell_type": "code",
   "execution_count": 2,
   "metadata": {},
   "outputs": [
    {
     "data": {
      "text/plain": [
       "14"
      ]
     },
     "execution_count": 2,
     "metadata": {},
     "output_type": "execute_result"
    }
   ],
   "source": [
    "len(hi)"
   ]
  },
  {
   "cell_type": "markdown",
   "metadata": {},
   "source": [
    "### OneHotEncoder"
   ]
  },
  {
   "cell_type": "code",
   "execution_count": 82,
   "metadata": {},
   "outputs": [],
   "source": [
    "encode = data.drop(['target','SumResponsabilite'],axis=1)\n",
    "columns_to_encode = list(encode.select_dtypes(include = \"object\"))\n",
    "columns_to_scale  = list(encode.select_dtypes(exclude=\"object\").columns) \n",
    "# Instantiate encoder/scaler\n",
    "scaler = MinMaxScaler()\n",
    "ohe    = OneHotEncoder(sparse=False)\n",
    "scaled_columns  = scaler.fit_transform(encode[columns_to_scale]) \n",
    "encoded_columns =    ohe.fit_transform(encode[columns_to_encode])\n",
    "\n",
    "# Concatenate (Column-Bind) Processed Columns Back Together\n",
    "processed_data = np.concatenate([encode[columns_to_scale], encoded_columns], axis=1)\n",
    "# storing the new data in a new dataframe and dropping one column for each encoded categorical \n",
    "# variable to avoid  the dummy variable trap\n",
    "testfinal = pd.DataFrame(processed_data)"
   ]
  },
  {
   "cell_type": "code",
   "execution_count": null,
   "metadata": {},
   "outputs": [],
   "source": []
  },
  {
   "cell_type": "code",
   "execution_count": 264,
   "metadata": {},
   "outputs": [],
   "source": [
    "enc = OneHotEncoder(handle_unknown='ignore',sparse=False)\n"
   ]
  },
  {
   "cell_type": "code",
   "execution_count": 96,
   "metadata": {},
   "outputs": [],
   "source": [
    "X = testfinal\n",
    "y = data['target']\n"
   ]
  },
  {
   "cell_type": "code",
   "execution_count": 271,
   "metadata": {},
   "outputs": [
    {
     "data": {
      "text/plain": [
       "OneHotEncoder(categories='auto', drop=None, dtype=<class 'numpy.float64'>,\n",
       "              handle_unknown='ignore', sparse=False)"
      ]
     },
     "execution_count": 271,
     "metadata": {},
     "output_type": "execute_result"
    }
   ],
   "source": [
    "enc.fit(X,y)"
   ]
  },
  {
   "cell_type": "code",
   "execution_count": 272,
   "metadata": {},
   "outputs": [],
   "source": [
    "X = enc.transform(X)"
   ]
  },
  {
   "cell_type": "code",
   "execution_count": null,
   "metadata": {},
   "outputs": [],
   "source": []
  },
  {
   "cell_type": "markdown",
   "metadata": {},
   "source": [
    "### Enregistrement du model OneHotEncoder en format pkl, à l'utiliser dans deployment WEB"
   ]
  },
  {
   "cell_type": "code",
   "execution_count": 3,
   "metadata": {},
   "outputs": [],
   "source": [
    "pickle.dump(enc, open('OneHotEncoder.pkl', 'wb'))\n"
   ]
  },
  {
   "cell_type": "markdown",
   "metadata": {},
   "source": [
    "# Pipelines et implementation des modeles"
   ]
  },
  {
   "cell_type": "code",
   "execution_count": 50,
   "metadata": {},
   "outputs": [],
   "source": [
    "from sklearn.decomposition import PCA\n",
    "from sklearn.pipeline import Pipeline\n",
    "from sklearn.compose import ColumnTransformer\n"
   ]
  },
  {
   "cell_type": "code",
   "execution_count": 54,
   "metadata": {},
   "outputs": [],
   "source": [
    "encode = data.drop(['target','SumResponsabilite'],axis=1)\n",
    "columns_to_encode = list(encode.select_dtypes(include = \"object\"))\n",
    "columns_to_scale  = list(encode.select_dtypes(exclude=\"object\").columns) \n"
   ]
  },
  {
   "cell_type": "code",
   "execution_count": 55,
   "metadata": {},
   "outputs": [],
   "source": [
    "numeric_transformer = Pipeline(steps=[('scaler', StandardScaler())])\n",
    "\n",
    "categorical_transformer = Pipeline(steps=[('onehot', OneHotEncoder(handle_unknown='ignore',sparse=False))])\n",
    "\n"
   ]
  },
  {
   "cell_type": "code",
   "execution_count": 208,
   "metadata": {},
   "outputs": [],
   "source": [
    "preprocessor = ColumnTransformer(\n",
    "    transformers=[\n",
    "        ('num', numeric_transformer, columns_to_scale),\n",
    "        ('cat', categorical_transformer, columns_to_encode)])\n",
    "\n"
   ]
  },
  {
   "cell_type": "code",
   "execution_count": 59,
   "metadata": {},
   "outputs": [],
   "source": [
    "pipeline_lr=Pipeline([('preprocessor', preprocessor),\n",
    "                     ('lr_classifier',LogisticRegression(random_state=0))])\n",
    "pipeline_dt=Pipeline([('preprocessor', preprocessor),\n",
    "                     ('dt_classifier',DecisionTreeClassifier(random_state=0))])\n",
    "\n",
    "pipeline_randomforest=Pipeline([('preprocessor', preprocessor),\n",
    "                     ('rf_classifier',RandomForestClassifier(random_state=0))])\n",
    "pipeline_KNN=Pipeline([('preprocessor', preprocessor),\n",
    "                     ('pca2',PCA(n_components=40)),\n",
    "                     ('rf_classifier',KNeighborsClassifier())])\n",
    "pipeline_svm=Pipeline([('preprocessor', preprocessor),\n",
    "                     ('pca2',PCA(n_components=40)),\n",
    "                     ('rf_classifier',svm.SVC())])\n",
    "\n",
    "\n",
    "\n"
   ]
  },
  {
   "cell_type": "code",
   "execution_count": 60,
   "metadata": {},
   "outputs": [],
   "source": [
    "pipelines = [pipeline_lr, pipeline_dt, pipeline_randomforest,pipeline_KNN,pipeline_svm]\n"
   ]
  },
  {
   "cell_type": "code",
   "execution_count": 61,
   "metadata": {},
   "outputs": [],
   "source": [
    "best_accuracy=0.0\n",
    "best_classifier=0\n",
    "best_pipeline=\"\"\n"
   ]
  },
  {
   "cell_type": "code",
   "execution_count": 98,
   "metadata": {},
   "outputs": [],
   "source": [
    "X_train, X_test, y_train, y_test = train_test_split(X, y, test_size=0.3, random_state=0)\n",
    "\n"
   ]
  },
  {
   "cell_type": "code",
   "execution_count": 65,
   "metadata": {},
   "outputs": [
    {
     "name": "stderr",
     "output_type": "stream",
     "text": [
      "/Library/Frameworks/Python.framework/Versions/3.6/lib/python3.6/site-packages/sklearn/linear_model/_logistic.py:940: ConvergenceWarning: lbfgs failed to converge (status=1):\n",
      "STOP: TOTAL NO. of ITERATIONS REACHED LIMIT.\n",
      "\n",
      "Increase the number of iterations (max_iter) or scale the data as shown in:\n",
      "    https://scikit-learn.org/stable/modules/preprocessing.html\n",
      "Please also refer to the documentation for alternative solver options:\n",
      "    https://scikit-learn.org/stable/modules/linear_model.html#logistic-regression\n",
      "  extra_warning_msg=_LOGISTIC_SOLVER_CONVERGENCE_MSG)\n"
     ]
    }
   ],
   "source": [
    "pipe_dict = {0: 'Logistic Regression', 1: 'Decision Tree', 2: 'RandomForest', 3: 'KNN', 4:'svm'}\n",
    "\n",
    "for pipe in pipelines:\n",
    "    pipe.fit(X_train, y_train)\n"
   ]
  },
  {
   "cell_type": "code",
   "execution_count": 66,
   "metadata": {},
   "outputs": [
    {
     "name": "stdout",
     "output_type": "stream",
     "text": [
      "Logistic Regression Test Accuracy: 0.7122441096948628\n",
      "Decision Tree Test Accuracy: 0.6553688682889146\n",
      "RandomForest Test Accuracy: 0.7031672460409425\n",
      "KNN Test Accuracy: 0.6874275782155272\n",
      "svm Test Accuracy: 0.7247006566241793\n"
     ]
    }
   ],
   "source": [
    "for i,model in enumerate(pipelines):\n",
    "    print(\"{} Test Accuracy: {}\".format(pipe_dict[i],model.score(X_test,y_test)))\n"
   ]
  },
  {
   "cell_type": "markdown",
   "metadata": {},
   "source": [
    "### Logistic Regression Test Accuracy: 0.7122441096948628 \n",
    "### Decision Tree Test Accuracy: 0.6553688682889146\n",
    "### RandomForest Test Accuracy: 0.7031672460409425\n",
    "### KNN Test Accuracy: 0.6874275782155272\n",
    "### svm Test Accuracy: 0.7247006566241793 "
   ]
  },
  {
   "cell_type": "markdown",
   "metadata": {},
   "source": [
    "## Logistic Regression"
   ]
  },
  {
   "cell_type": "code",
   "execution_count": 273,
   "metadata": {},
   "outputs": [
    {
     "name": "stderr",
     "output_type": "stream",
     "text": [
      "/Library/Frameworks/Python.framework/Versions/3.6/lib/python3.6/site-packages/sklearn/linear_model/_logistic.py:940: ConvergenceWarning: lbfgs failed to converge (status=1):\n",
      "STOP: TOTAL NO. of ITERATIONS REACHED LIMIT.\n",
      "\n",
      "Increase the number of iterations (max_iter) or scale the data as shown in:\n",
      "    https://scikit-learn.org/stable/modules/preprocessing.html\n",
      "Please also refer to the documentation for alternative solver options:\n",
      "    https://scikit-learn.org/stable/modules/linear_model.html#logistic-regression\n",
      "  extra_warning_msg=_LOGISTIC_SOLVER_CONVERGENCE_MSG)\n"
     ]
    },
    {
     "data": {
      "text/plain": [
       "LogisticRegression(C=1.0, class_weight=None, dual=False, fit_intercept=True,\n",
       "                   intercept_scaling=1, l1_ratio=None, max_iter=100,\n",
       "                   multi_class='auto', n_jobs=None, penalty='l2',\n",
       "                   random_state=None, solver='lbfgs', tol=0.0001, verbose=0,\n",
       "                   warm_start=False)"
      ]
     },
     "execution_count": 273,
     "metadata": {},
     "output_type": "execute_result"
    }
   ],
   "source": [
    "from sklearn.linear_model import LogisticRegression\n",
    "from sklearn import metrics\n",
    "X_train, X_test, y_train, y_test = train_test_split(X, y, test_size=0.3, random_state=0)\n",
    "logreg = LogisticRegression()\n",
    "logreg.fit(X_train, y_train)"
   ]
  },
  {
   "cell_type": "code",
   "execution_count": 167,
   "metadata": {},
   "outputs": [
    {
     "data": {
      "text/plain": [
       "LogisticRegression(C=1.0, class_weight=None, dual=False, fit_intercept=True,\n",
       "                   intercept_scaling=1, l1_ratio=None, max_iter=100,\n",
       "                   multi_class='multinomial', n_jobs=None, penalty='l2',\n",
       "                   random_state=0, solver='newton-cg', tol=0.0001, verbose=0,\n",
       "                   warm_start=False)"
      ]
     },
     "execution_count": 167,
     "metadata": {},
     "output_type": "execute_result"
    }
   ],
   "source": [
    "X_train1, X_test1, y_train1, y_test1 = train_test_split(X1, y1, test_size=0.3, random_state=0)\n",
    "logreg1 = LogisticRegression(random_state=0, multi_class='multinomial', solver='newton-cg')\n",
    "\n",
    "logreg1.fit(X_train1, y_train1)"
   ]
  },
  {
   "cell_type": "code",
   "execution_count": 274,
   "metadata": {},
   "outputs": [
    {
     "name": "stdout",
     "output_type": "stream",
     "text": [
      "Accuracy of logistic regression classifier on test set: 0.72\n"
     ]
    }
   ],
   "source": [
    "y_pred = logreg.predict(X_test)\n",
    "print('Accuracy of logistic regression classifier on test set: {:.2f}'.format(logreg.score(X_test, y_test)))"
   ]
  },
  {
   "cell_type": "code",
   "execution_count": 168,
   "metadata": {},
   "outputs": [
    {
     "name": "stdout",
     "output_type": "stream",
     "text": [
      "Accuracy of logistic regression classifier on test set: 0.82\n"
     ]
    }
   ],
   "source": [
    "y_pred1 = logreg1.predict(X_test1)\n",
    "\n",
    "print('Accuracy of logistic regression classifier on test set: {:.2f}'.format(logreg1.score(X_test1, y_test1)))"
   ]
  },
  {
   "cell_type": "code",
   "execution_count": 275,
   "metadata": {},
   "outputs": [
    {
     "name": "stdout",
     "output_type": "stream",
     "text": [
      "[[6536  696]\n",
      " [2166  958]]\n"
     ]
    }
   ],
   "source": [
    "from sklearn.metrics import confusion_matrix\n",
    "confusion_matrix = confusion_matrix(y_test, y_pred)\n",
    "print(confusion_matrix)"
   ]
  },
  {
   "cell_type": "code",
   "execution_count": 276,
   "metadata": {},
   "outputs": [
    {
     "name": "stdout",
     "output_type": "stream",
     "text": [
      "              precision    recall  f1-score   support\n",
      "\n",
      "         0.0       0.75      0.90      0.82      7232\n",
      "         1.0       0.58      0.31      0.40      3124\n",
      "\n",
      "    accuracy                           0.72     10356\n",
      "   macro avg       0.67      0.61      0.61     10356\n",
      "weighted avg       0.70      0.72      0.69     10356\n",
      "\n"
     ]
    }
   ],
   "source": [
    "from sklearn.metrics import classification_report\n",
    "print(classification_report(y_test, y_pred))\n"
   ]
  },
  {
   "cell_type": "code",
   "execution_count": 138,
   "metadata": {},
   "outputs": [
    {
     "data": {
      "image/png": "[encoded data removed]",
      "text/plain": [
       "<Figure size 432x288 with 1 Axes>"
      ]
     },
     "metadata": {
      "needs_background": "light"
     },
     "output_type": "display_data"
    }
   ],
   "source": [
    "from sklearn.metrics import roc_auc_score\n",
    "from sklearn.metrics import roc_curve\n",
    "logit_roc_auc = roc_auc_score(y_test, logreg.predict(X_test))\n",
    "fpr, tpr, thresholds = roc_curve(y_test, logreg.predict_proba(X_test)[:,1])\n",
    "plt.figure()\n",
    "plt.plot(fpr, tpr, label='Logistic Regression (area = %0.2f)' % logit_roc_auc)\n",
    "plt.plot([0, 1], [0, 1],'r--')\n",
    "plt.xlim([0.0, 1.0])\n",
    "plt.ylim([0.0, 1.05])\n",
    "plt.xlabel('False Positive Rate')\n",
    "plt.ylabel('True Positive Rate')\n",
    "plt.title('Receiver operating characteristic')\n",
    "plt.legend(loc=\"lower right\")\n",
    "plt.savefig('Log_ROC')\n",
    "plt.show()\n"
   ]
  },
  {
   "cell_type": "markdown",
   "metadata": {},
   "source": [
    "### on représente  la mesure ROC sous la forme d'une courbe qui donne le taux de vrais positifs (fraction des positifs qui sont effectivement détectés) en fonction du taux de faux positifs (fraction des négatifs qui sont incorrectement détectés)."
   ]
  },
  {
   "cell_type": "markdown",
   "metadata": {},
   "source": [
    "# Pipelines Perform Hyperparameter Tuning Using Grid SearchCV\n"
   ]
  },
  {
   "cell_type": "code",
   "execution_count": 68,
   "metadata": {},
   "outputs": [],
   "source": [
    "from sklearn.model_selection import GridSearchCV\n"
   ]
  },
  {
   "cell_type": "code",
   "execution_count": 69,
   "metadata": {},
   "outputs": [
    {
     "name": "stderr",
     "output_type": "stream",
     "text": [
      "/Library/Frameworks/Python.framework/Versions/3.6/lib/python3.6/site-packages/sklearn/linear_model/_logistic.py:940: ConvergenceWarning: lbfgs failed to converge (status=1):\n",
      "STOP: TOTAL NO. of ITERATIONS REACHED LIMIT.\n",
      "\n",
      "Increase the number of iterations (max_iter) or scale the data as shown in:\n",
      "    https://scikit-learn.org/stable/modules/preprocessing.html\n",
      "Please also refer to the documentation for alternative solver options:\n",
      "    https://scikit-learn.org/stable/modules/linear_model.html#logistic-regression\n",
      "  extra_warning_msg=_LOGISTIC_SOLVER_CONVERGENCE_MSG)\n"
     ]
    }
   ],
   "source": [
    "# Create a pipeline\n",
    "pipe = Pipeline([('preprocessor', preprocessor),(\"classifier\", RandomForestClassifier())])\n",
    "# Create dictionary with candidate learning algorithms and their hyperparameters\n",
    "grid_param = [\n",
    "                {\"classifier\": [LogisticRegression()],\n",
    "                 \"classifier__penalty\": ['l2','l1'],\n",
    "                 \"classifier__C\": np.logspace(0, 4, 10)\n",
    "                 }]\n",
    "# create a gridsearch of the pipeline, the fit the best model\n",
    "gridsearch = GridSearchCV(pipe, grid_param, cv=5, verbose=0,n_jobs=-1) # Fit grid search\n",
    "best_model = gridsearch.fit(X_train,y_train)"
   ]
  },
  {
   "cell_type": "code",
   "execution_count": 71,
   "metadata": {},
   "outputs": [],
   "source": [
    "from pandas_profiling import ProfileReport\n",
    "from sklearn.metrics import confusion_matrix\n",
    "from sklearn.metrics import classification_report\n",
    "from sklearn.base import BaseEstimator\n"
   ]
  },
  {
   "cell_type": "code",
   "execution_count": 72,
   "metadata": {},
   "outputs": [],
   "source": [
    "class SwitchAlgo(BaseEstimator):\n",
    "    def __init__(self, estimator):\n",
    "        self.estimator = estimator\n",
    "        \n",
    "    def fit(self, X, y=None):\n",
    "        self.estimator.fit(X, y)\n",
    "        return self\n",
    "\n",
    "\n",
    "    def predict(self, X):\n",
    "        return self.estimator.predict(X)\n",
    "\n",
    "\n",
    "    def predict_proba(self, X,y):\n",
    "        DefaultProba = self.estimator.predict_proba(X)\n",
    "        prediction = self.predict(X)\n",
    "        DefaultProba = DefaultProba[:,1]\n",
    "        result = pd.concat ([pd.DataFrame(DefaultProba, index =X.index ,columns = [\"Probability\"]),\n",
    "            pd.DataFrame(prediction, index = y.index, columns =[\"Prediction\"])],\n",
    "           axis=1).head(10)\n",
    "        return result\n",
    "\n",
    "\n",
    "    def score(self, X, y):\n",
    "        return self.estimator.score(X, y)\n",
    "    \n",
    "    def confusionMatrix(self, ytest, X):\n",
    "        y_pred = self.predict(X)\n",
    "        cm = confusion_matrix(ytest, y_pred)\n",
    "        labels = [\"GOOD\",\"BAD\"]\n",
    "        \n",
    "        df = pd.DataFrame()\n",
    "        for i, row_label in enumerate(labels):\n",
    "            rowdata={}\n",
    "            for j, col_label in enumerate(labels): \n",
    "                rowdata[col_label]=cm[i,j]\n",
    "            df = df.append(pd.DataFrame.from_dict({row_label:rowdata}, orient='index'))\n",
    "        return df[labels]\n",
    "\n",
    "    \n",
    "    def report(self,ytest,X):\n",
    "        y_pred = self.predict(X)\n",
    "        report_df = pd.DataFrame(classification_report(y_true = ytest, y_pred =  y_pred, output_dict=True)).transpose()\n",
    "        return report_df"
   ]
  },
  {
   "cell_type": "code",
   "execution_count": 84,
   "metadata": {},
   "outputs": [],
   "source": [
    "def Modeling_one(df,algo):\n",
    "    X_train, X_test, y_train, y_test = train_test_split(X, y, test_size=0.25, random_state=122)\n",
    "    print(X_test.shape)\n",
    "\n",
    "    model = SwitchAlgo(algo)\n",
    "    fitted = model.fit(X_train,y_train)\n",
    "    y_pred = model.predict(X_test)\n",
    "    score = model.score(X_test,y_test)\n",
    "    result = model.predict_proba(X_test, y_test)\n",
    "    cm = model.confusionMatrix(y_test, X_test)\n",
    "    report = model.report(y_test, X_test)\n",
    "    #tune_depth_estimator(X_train,y_train,algo)\n",
    "    aff = display('Score ='  , score ,'Confusion matrix = ',cm,'Classification Report',report,'Default Probability', result)\n",
    "    return aff,y_pred, fitted"
   ]
  },
  {
   "cell_type": "code",
   "execution_count": 87,
   "metadata": {},
   "outputs": [
    {
     "name": "stdout",
     "output_type": "stream",
     "text": [
      "(8630, 46)\n"
     ]
    },
    {
     "name": "stderr",
     "output_type": "stream",
     "text": [
      "/Library/Frameworks/Python.framework/Versions/3.6/lib/python3.6/site-packages/scipy/optimize/linesearch.py:466: LineSearchWarning: The line search algorithm did not converge\n",
      "  warn('The line search algorithm did not converge', LineSearchWarning)\n",
      "/Library/Frameworks/Python.framework/Versions/3.6/lib/python3.6/site-packages/scipy/optimize/linesearch.py:314: LineSearchWarning: The line search algorithm did not converge\n",
      "  warn('The line search algorithm did not converge', LineSearchWarning)\n"
     ]
    },
    {
     "data": {
      "text/plain": [
       "'Score ='"
      ]
     },
     "metadata": {},
     "output_type": "display_data"
    },
    {
     "data": {
      "text/plain": [
       "0.7119351100811124"
      ]
     },
     "metadata": {},
     "output_type": "display_data"
    },
    {
     "data": {
      "text/plain": [
       "'Confusion matrix = '"
      ]
     },
     "metadata": {},
     "output_type": "display_data"
    },
    {
     "data": {
      "text/html": [
       "<div>\n",
       "<style scoped>\n",
       "    .dataframe tbody tr th:only-of-type {\n",
       "        vertical-align: middle;\n",
       "    }\n",
       "\n",
       "    .dataframe tbody tr th {\n",
       "        vertical-align: top;\n",
       "    }\n",
       "\n",
       "    .dataframe thead th {\n",
       "        text-align: right;\n",
       "    }\n",
       "</style>\n",
       "<table border=\"1\" class=\"dataframe\">\n",
       "  <thead>\n",
       "    <tr style=\"text-align: right;\">\n",
       "      <th></th>\n",
       "      <th>GOOD</th>\n",
       "      <th>BAD</th>\n",
       "    </tr>\n",
       "  </thead>\n",
       "  <tbody>\n",
       "    <tr>\n",
       "      <th>GOOD</th>\n",
       "      <td>5725</td>\n",
       "      <td>289</td>\n",
       "    </tr>\n",
       "    <tr>\n",
       "      <th>BAD</th>\n",
       "      <td>2197</td>\n",
       "      <td>419</td>\n",
       "    </tr>\n",
       "  </tbody>\n",
       "</table>\n",
       "</div>"
      ],
      "text/plain": [
       "      GOOD  BAD\n",
       "GOOD  5725  289\n",
       "BAD   2197  419"
      ]
     },
     "metadata": {},
     "output_type": "display_data"
    },
    {
     "data": {
      "text/plain": [
       "'Classification Report'"
      ]
     },
     "metadata": {},
     "output_type": "display_data"
    },
    {
     "data": {
      "text/html": [
       "<div>\n",
       "<style scoped>\n",
       "    .dataframe tbody tr th:only-of-type {\n",
       "        vertical-align: middle;\n",
       "    }\n",
       "\n",
       "    .dataframe tbody tr th {\n",
       "        vertical-align: top;\n",
       "    }\n",
       "\n",
       "    .dataframe thead th {\n",
       "        text-align: right;\n",
       "    }\n",
       "</style>\n",
       "<table border=\"1\" class=\"dataframe\">\n",
       "  <thead>\n",
       "    <tr style=\"text-align: right;\">\n",
       "      <th></th>\n",
       "      <th>precision</th>\n",
       "      <th>recall</th>\n",
       "      <th>f1-score</th>\n",
       "      <th>support</th>\n",
       "    </tr>\n",
       "  </thead>\n",
       "  <tbody>\n",
       "    <tr>\n",
       "      <th>0.0</th>\n",
       "      <td>0.722671</td>\n",
       "      <td>0.951945</td>\n",
       "      <td>0.821613</td>\n",
       "      <td>6014.000000</td>\n",
       "    </tr>\n",
       "    <tr>\n",
       "      <th>1.0</th>\n",
       "      <td>0.591808</td>\n",
       "      <td>0.160168</td>\n",
       "      <td>0.252106</td>\n",
       "      <td>2616.000000</td>\n",
       "    </tr>\n",
       "    <tr>\n",
       "      <th>accuracy</th>\n",
       "      <td>0.711935</td>\n",
       "      <td>0.711935</td>\n",
       "      <td>0.711935</td>\n",
       "      <td>0.711935</td>\n",
       "    </tr>\n",
       "    <tr>\n",
       "      <th>macro avg</th>\n",
       "      <td>0.657239</td>\n",
       "      <td>0.556057</td>\n",
       "      <td>0.536859</td>\n",
       "      <td>8630.000000</td>\n",
       "    </tr>\n",
       "    <tr>\n",
       "      <th>weighted avg</th>\n",
       "      <td>0.683003</td>\n",
       "      <td>0.711935</td>\n",
       "      <td>0.648979</td>\n",
       "      <td>8630.000000</td>\n",
       "    </tr>\n",
       "  </tbody>\n",
       "</table>\n",
       "</div>"
      ],
      "text/plain": [
       "              precision    recall  f1-score      support\n",
       "0.0            0.722671  0.951945  0.821613  6014.000000\n",
       "1.0            0.591808  0.160168  0.252106  2616.000000\n",
       "accuracy       0.711935  0.711935  0.711935     0.711935\n",
       "macro avg      0.657239  0.556057  0.536859  8630.000000\n",
       "weighted avg   0.683003  0.711935  0.648979  8630.000000"
      ]
     },
     "metadata": {},
     "output_type": "display_data"
    },
    {
     "data": {
      "text/plain": [
       "'Default Probability'"
      ]
     },
     "metadata": {},
     "output_type": "display_data"
    },
    {
     "data": {
      "text/html": [
       "<div>\n",
       "<style scoped>\n",
       "    .dataframe tbody tr th:only-of-type {\n",
       "        vertical-align: middle;\n",
       "    }\n",
       "\n",
       "    .dataframe tbody tr th {\n",
       "        vertical-align: top;\n",
       "    }\n",
       "\n",
       "    .dataframe thead th {\n",
       "        text-align: right;\n",
       "    }\n",
       "</style>\n",
       "<table border=\"1\" class=\"dataframe\">\n",
       "  <thead>\n",
       "    <tr style=\"text-align: right;\">\n",
       "      <th></th>\n",
       "      <th>Probability</th>\n",
       "      <th>Prediction</th>\n",
       "    </tr>\n",
       "  </thead>\n",
       "  <tbody>\n",
       "    <tr>\n",
       "      <th>4.0</th>\n",
       "      <td>0.397444</td>\n",
       "      <td>NaN</td>\n",
       "    </tr>\n",
       "    <tr>\n",
       "      <th>6.0</th>\n",
       "      <td>0.400551</td>\n",
       "      <td>NaN</td>\n",
       "    </tr>\n",
       "    <tr>\n",
       "      <th>7.0</th>\n",
       "      <td>0.379035</td>\n",
       "      <td>NaN</td>\n",
       "    </tr>\n",
       "    <tr>\n",
       "      <th>11.0</th>\n",
       "      <td>0.065594</td>\n",
       "      <td>NaN</td>\n",
       "    </tr>\n",
       "    <tr>\n",
       "      <th>17.0</th>\n",
       "      <td>0.245013</td>\n",
       "      <td>NaN</td>\n",
       "    </tr>\n",
       "    <tr>\n",
       "      <th>19.0</th>\n",
       "      <td>0.081208</td>\n",
       "      <td>NaN</td>\n",
       "    </tr>\n",
       "    <tr>\n",
       "      <th>36.0</th>\n",
       "      <td>0.198374</td>\n",
       "      <td>NaN</td>\n",
       "    </tr>\n",
       "    <tr>\n",
       "      <th>38.0</th>\n",
       "      <td>0.470748</td>\n",
       "      <td>NaN</td>\n",
       "    </tr>\n",
       "    <tr>\n",
       "      <th>39.0</th>\n",
       "      <td>0.516129</td>\n",
       "      <td>NaN</td>\n",
       "    </tr>\n",
       "    <tr>\n",
       "      <th>41.0</th>\n",
       "      <td>0.269504</td>\n",
       "      <td>NaN</td>\n",
       "    </tr>\n",
       "  </tbody>\n",
       "</table>\n",
       "</div>"
      ],
      "text/plain": [
       "      Probability  Prediction\n",
       "4.0      0.397444         NaN\n",
       "6.0      0.400551         NaN\n",
       "7.0      0.379035         NaN\n",
       "11.0     0.065594         NaN\n",
       "17.0     0.245013         NaN\n",
       "19.0     0.081208         NaN\n",
       "36.0     0.198374         NaN\n",
       "38.0     0.470748         NaN\n",
       "39.0     0.516129         NaN\n",
       "41.0     0.269504         NaN"
      ]
     },
     "metadata": {},
     "output_type": "display_data"
    },
    {
     "data": {
      "text/plain": [
       "(None,\n",
       " array([0., 0., 0., ..., 0., 0., 0.]),\n",
       " SwitchAlgo(estimator=LogisticRegression(C=1.0, class_weight=None, dual=False,\n",
       "                                         fit_intercept=True, intercept_scaling=1,\n",
       "                                         l1_ratio=None, max_iter=100,\n",
       "                                         multi_class='multinomial', n_jobs=None,\n",
       "                                         penalty='l2', random_state=0,\n",
       "                                         solver='newton-cg', tol=0.0001,\n",
       "                                         verbose=0, warm_start=False)))"
      ]
     },
     "execution_count": 87,
     "metadata": {},
     "output_type": "execute_result"
    }
   ],
   "source": [
    "Modeling_one(data,LogisticRegression(random_state=0, multi_class='multinomial', solver='newton-cg'))"
   ]
  },
  {
   "cell_type": "code",
   "execution_count": 109,
   "metadata": {},
   "outputs": [
    {
     "name": "stdout",
     "output_type": "stream",
     "text": [
      "[5, 6, 8]\n",
      "Fitting 5 folds for each of 9 candidates, totalling 45 fits\n"
     ]
    },
    {
     "name": "stderr",
     "output_type": "stream",
     "text": [
      "[Parallel(n_jobs=-1)]: Using backend LokyBackend with 4 concurrent workers.\n",
      "[Parallel(n_jobs=-1)]: Done  45 out of  45 | elapsed:  6.3min finished\n"
     ]
    },
    {
     "data": {
      "image/png": "[encoded data removed]",
      "text/plain": [
       "<Figure size 576x396 with 1 Axes>"
      ]
     },
     "metadata": {},
     "output_type": "display_data"
    }
   ],
   "source": [
    "from sklearn.model_selection import StratifiedKFold\n",
    "from sklearn.model_selection import GridSearchCV\n",
    "\n",
    "model = GradientBoostingClassifier()\n",
    "\n",
    "n_estimators = [ 50, 150, 200]\n",
    "max_depth = [5, 6,8]\n",
    "print(max_depth)\n",
    "param_grid = dict(max_depth=max_depth, n_estimators=n_estimators)\n",
    "kfold = StratifiedKFold(n_splits=5, shuffle=True, random_state=7)\n",
    "grid_search = GridSearchCV(model, param_grid, scoring=\"neg_log_loss\", n_jobs=-1, cv=kfold, verbose=1)\n",
    "grid_result = grid_search.fit(X_train,y_train)\n",
    "\n",
    "\n",
    "means = grid_result.cv_results_['mean_test_score']\n",
    "stds = grid_result.cv_results_['std_test_score']\n",
    "params = grid_result.cv_results_['params']\n",
    "\n",
    "\n",
    "scores = np.array(means).reshape(len(max_depth), len(n_estimators))\n",
    "for i, value in enumerate(max_depth):\n",
    "    plt.plot(n_estimators, scores[i], label='depth: ' + str(value))\n",
    "plt.legend()\n",
    "plt.xlabel('n_estimators')\n",
    "plt.ylabel('Log Loss')\n",
    "plt.savefig('n_estimators_vs_max_depth.png')"
   ]
  },
  {
   "cell_type": "code",
   "execution_count": 112,
   "metadata": {},
   "outputs": [
    {
     "data": {
      "text/plain": [
       "GradientBoostingClassifier(ccp_alpha=0.0, criterion='friedman_mse', init=None,\n",
       "                           learning_rate=0.1, loss='deviance', max_depth=3,\n",
       "                           max_features=None, max_leaf_nodes=None,\n",
       "                           min_impurity_decrease=0.0, min_impurity_split=None,\n",
       "                           min_samples_leaf=1, min_samples_split=2,\n",
       "                           min_weight_fraction_leaf=0.0, n_estimators=100,\n",
       "                           n_iter_no_change=None, presort='deprecated',\n",
       "                           random_state=None, subsample=1.0, tol=0.0001,\n",
       "                           validation_fraction=0.1, verbose=0,\n",
       "                           warm_start=False)"
      ]
     },
     "execution_count": 112,
     "metadata": {},
     "output_type": "execute_result"
    }
   ],
   "source": [
    "model.fit(X_train,y_train)"
   ]
  },
  {
   "cell_type": "code",
   "execution_count": 113,
   "metadata": {},
   "outputs": [],
   "source": [
    "y_pred = model.predict(X_test)\n"
   ]
  },
  {
   "cell_type": "code",
   "execution_count": 115,
   "metadata": {},
   "outputs": [],
   "source": [
    "def plot_roc(y_test, y_pred,algo):\n",
    "    fpr1, tpr1, threshold1 = roc_curve(y_test, y_pred) \n",
    "    roc_auc1 = auc(fpr1, tpr1)\n",
    "    plt.figure(figsize=(6,5)) \n",
    "    plt.plot(fpr1, tpr1, color='g', lw=2, label= '(area = %0.2f)'% roc_auc1)\n",
    "    plt.plot([0, 1], [0, 1], color='red', lw=2, label = 'Baseline',linestyle='--') \n",
    "    plt.xlim([-0.01, 1.01]) \n",
    "    plt.ylim([0.0, 1.05]) \n",
    "    plt.xlabel('False Positive Rate') \n",
    "    plt.ylabel('True Positive Rate') \n",
    "    plt.title('Classifiers ROC curves') \n",
    "    plt.legend(loc = \"lower right\")\n",
    "    plt.show()"
   ]
  },
  {
   "cell_type": "code",
   "execution_count": 117,
   "metadata": {},
   "outputs": [],
   "source": [
    "from sklearn.metrics import roc_curve, auc\n"
   ]
  },
  {
   "cell_type": "code",
   "execution_count": 118,
   "metadata": {},
   "outputs": [
    {
     "data": {
      "image/png": "[encoded data removed]",
      "text/plain": [
       "<Figure size 432x360 with 1 Axes>"
      ]
     },
     "metadata": {},
     "output_type": "display_data"
    }
   ],
   "source": [
    "plot_roc(y_test,y_pred,None)"
   ]
  },
  {
   "cell_type": "code",
   "execution_count": null,
   "metadata": {},
   "outputs": [],
   "source": []
  }
 ],
 "metadata": {
  "kernelspec": {
   "display_name": "Python 3",
   "language": "python",
   "name": "python3"
  },
  "language_info": {
   "codemirror_mode": {
    "name": "ipython",
    "version": 3
   },
   "file_extension": ".py",
   "mimetype": "text/x-python",
   "name": "python",
   "nbconvert_exporter": "python",
   "pygments_lexer": "ipython3",
   "version": "3.6.8"
  }
 },
 "nbformat": 4,
 "nbformat_minor": 4
}
